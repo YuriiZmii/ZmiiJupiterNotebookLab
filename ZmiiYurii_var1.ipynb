{
 "cells": [
  {
   "cell_type": "markdown",
   "id": "d5ff60ef",
   "metadata": {},
   "source": [
    "# <font color=\"blue\">Греція</font>\n",
    "\n",
    "<font color=\"red\">Площа:</font> Приблизно 131,957 квадратних кілометрів.\n",
    "\n",
    "<font color=\"green\">Населення:</font> Приблизно 10,4 мільйони осіб (на 2021 рік).\n",
    "\n",
    "## <font color=\"purple\">Державний устрій</font>\n",
    "| **Державний устрій**                | **Греція є парламентською республікою.**                |\n",
    "|-----------------------------------|----------------------------------------------------|\n",
    "| **Голова держави**                | **президент**                                        |\n",
    "| **Голова уряду**                  | **прем'єр-міністр**                                  |\n",
    "\n",
    "\n",
    "## <font color=\"maroon\">Видатні персоналії</font>\n",
    "Грецька історія та культура багата на видатні постаті, включаючи філософів, математиків, поетів, архітекторів та інших вчених, митців і політиків.До видатних греків включаються філософи, такі як Сократ, Платон і Аристотель; математик Архімед; поети, такі як Гомер та Сафо; архітектори, такі як Фідіас; та багато інших вчених, митців і політиків.\n",
    "\n",
    "<div style=\"border: 1px solid black; padding: 10px;\">\n",
    "    <b>Пам'ятки культури</b>\n",
    "</div>\n",
    "\n",
    "Грецька культура включає безліч археологічних пам'яток, таких як <font color=\"gray\">Акрополь</font> в Афінах, <font color=\"olive\">храм Посейдона</font> в Суніоні, <font color=\"indigo\">анфітеатр Епідаур</font> та інші.\n",
    "![Акрополь](data:image/jpeg;base64,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)\n",
    "\n",
    "\n",
    "## <font color=\"red\">Природні пам'ятки</font>\n",
    "Греція славиться своєю вишуканою природою, включаючи острови у <font color=\"green\">Середземному морі</font>, <font color=\"blue\">Метеори</font>, <font color=\"purple\">гору Олімп</font>, гірські озера та ліси.\n",
    "* До природних пам'яток належать:\n",
    "  - Метеори (комплекс манастирів на скелях)\n",
    "  - Гора Олімп  [Детальніше про Гору Олімп](https://uk.wikipedia.org/wiki/%D0%9E%D0%BB%D1%96%D0%BC%D0%BF)\n",
    "  - Гірські озера\n",
    "  - Гірські ліси\n",
    " \n",
    "\n",
    "\n"
   ]
  },
  {
   "cell_type": "code",
   "execution_count": 1,
   "id": "3af242cc",
   "metadata": {},
   "outputs": [
    {
     "data": {
      "text/html": [
       "<svg xmlns=\"http://www.w3.org/2000/svg\" width=\"300\" height=\"200\">\n",
       "  <rect width=\"100%\" height=\"11.11%\" fill=\"#0E5D6E\" />\n",
       "  <rect width=\"100%\" height=\"11.11%\" y=\"11.11%\" fill=\"#FFFFFF\" />\n",
       "  <rect width=\"100%\" height=\"11.11%\" y=\"22.22%\" fill=\"#0E5D6E\" />\n",
       "  <rect width=\"100%\" height=\"11.11%\" y=\"33.33%\" fill=\"#FFFFFF\" />\n",
       "  <rect width=\"100%\" height=\"11.11%\" y=\"44.44%\" fill=\"#0E5D6E\" />\n",
       "  <rect width=\"100%\" height=\"11.11%\" y=\"55.55%\" fill=\"#FFFFFF\" />\n",
       "  <rect width=\"100%\" height=\"11.11%\" y=\"66.66%\" fill=\"#0E5D6E\" />\n",
       "  <rect width=\"100%\" height=\"11.11%\" y=\"77.77%\" fill=\"#FFFFFF\" />\n",
       "  <rect width=\"100%\" height=\"11.11%\" y=\"88.88%\" fill=\"#0E5D6E\" />\n",
       "</svg>\n"
      ],
      "text/plain": [
       "<IPython.core.display.HTML object>"
      ]
     },
     "metadata": {},
     "output_type": "display_data"
    }
   ],
   "source": [
    "%%HTML\n",
    "<svg xmlns=\"http://www.w3.org/2000/svg\" width=\"300\" height=\"200\">\n",
    "  <rect width=\"100%\" height=\"11.11%\" fill=\"#0E5D6E\" />\n",
    "  <rect width=\"100%\" height=\"11.11%\" y=\"11.11%\" fill=\"#FFFFFF\" />\n",
    "  <rect width=\"100%\" height=\"11.11%\" y=\"22.22%\" fill=\"#0E5D6E\" />\n",
    "  <rect width=\"100%\" height=\"11.11%\" y=\"33.33%\" fill=\"#FFFFFF\" />\n",
    "  <rect width=\"100%\" height=\"11.11%\" y=\"44.44%\" fill=\"#0E5D6E\" />\n",
    "  <rect width=\"100%\" height=\"11.11%\" y=\"55.55%\" fill=\"#FFFFFF\" />\n",
    "  <rect width=\"100%\" height=\"11.11%\" y=\"66.66%\" fill=\"#0E5D6E\" />\n",
    "  <rect width=\"100%\" height=\"11.11%\" y=\"77.77%\" fill=\"#FFFFFF\" />\n",
    "  <rect width=\"100%\" height=\"11.11%\" y=\"88.88%\" fill=\"#0E5D6E\" />\n",
    "</svg>"
   ]
  },
  {
   "cell_type": "code",
   "execution_count": 2,
   "id": "43fcc209",
   "metadata": {},
   "outputs": [
    {
     "name": "stdout",
     "output_type": "stream",
     "text": [
      "Введіть парне число більше 2: 56\n",
      "Результат для числа 56: (3, 53)\n"
     ]
    }
   ],
   "source": [
    "def is_prime(num):\n",
    "    if num <= 1:\n",
    "        return False\n",
    "    if num <= 3:\n",
    "        return True\n",
    "    if num % 2 == 0 or num % 3 == 0:\n",
    "        return False\n",
    "    i = 5\n",
    "    while i * i <= num:\n",
    "        if num % i == 0 or num % (i + 2) == 0:\n",
    "            return False\n",
    "        i += 6\n",
    "    return True\n",
    "\n",
    "def goldbach_conjecture(n):\n",
    "    if n % 2 != 0 or n <= 2:\n",
    "        return \"Гіпотеза Гольдбаха не виконується для даного числа\"\n",
    "    \n",
    "    for i in range(2, n // 2 + 1):\n",
    "        if is_prime(i) and is_prime(n - i):\n",
    "            return (i, n - i)\n",
    "    \n",
    "    return \"Гіпотеза Гольдбаха не виконується для даного числа\"\n",
    "\n",
    "# Перевірка введених даних:\n",
    "try:\n",
    "    n = int(input(\"Введіть парне число більше 2: \"))\n",
    "    if n <= 2 or n % 2 != 0:\n",
    "        print(\"Введене число не відповідає вимогам\")\n",
    "    else:\n",
    "        result = goldbach_conjecture(n)\n",
    "        print(f\"Результат для числа {n}: {result}\")\n",
    "except ValueError:\n",
    "    print(\"Помилка: Введіть коректне число.\")\n"
   ]
  },
  {
   "cell_type": "code",
   "execution_count": null,
   "id": "68cb9f81",
   "metadata": {},
   "outputs": [],
   "source": []
  }
 ],
 "metadata": {
  "kernelspec": {
   "display_name": "Python 3 (ipykernel)",
   "language": "python",
   "name": "python3"
  },
  "language_info": {
   "codemirror_mode": {
    "name": "ipython",
    "version": 3
   },
   "file_extension": ".py",
   "mimetype": "text/x-python",
   "name": "python",
   "nbconvert_exporter": "python",
   "pygments_lexer": "ipython3",
   "version": "3.7.16"
  }
 },
 "nbformat": 4,
 "nbformat_minor": 5
}
